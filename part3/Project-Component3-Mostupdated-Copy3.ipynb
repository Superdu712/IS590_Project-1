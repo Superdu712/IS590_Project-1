{
 "cells": [
  {
   "cell_type": "code",
   "execution_count": 1,
   "metadata": {
    "collapsed": true
   },
   "outputs": [],
   "source": [
    "import pandas as pd\n",
    "import bqplot\n",
    "import yt\n",
    "import us\n",
    "import ipywidgets\n",
    "import numpy as np\n",
    "\n",
    "symbol_s = 'Total Sightings'\n",
    "symbol_t = 'Total Duration Seconds'"
   ]
  },
  {
   "cell_type": "code",
   "execution_count": 2,
   "metadata": {
    "collapsed": true
   },
   "outputs": [],
   "source": [
    "from bqplot import ColorScale, LinearScale, LogScale, Axis, Lines, Figure\n",
    "from ipywidgets import Layout, Dropdown, HBox, VBox, HTML\n",
    "from traitlets import link\n",
    "from bqplot.interacts import FastIntervalSelector"
   ]
  },
  {
   "cell_type": "markdown",
   "metadata": {},
   "source": [
    "## UFO Data"
   ]
  },
  {
   "cell_type": "code",
   "execution_count": 3,
   "metadata": {
    "collapsed": true
   },
   "outputs": [],
   "source": [
    "names = [\"date\", \"city\", \"state\", \"country\", \"shape\", \"duration_seconds\",\n",
    "         \"duration_reported\", \"description\", \"report_date\", \"latitude\",\n",
    "         \"longitude\"]\n",
    "fn = \"/srv/nbgrader/data/ufo-scrubbed-geocoded-time-standardized.csv\"\n",
    "ufo = pd.read_csv(fn, names = names, parse_dates = [\"date\", \"report_date\"])"
   ]
  },
  {
   "cell_type": "code",
   "execution_count": 4,
   "metadata": {
    "collapsed": true
   },
   "outputs": [],
   "source": [
    "ufo['year'] = ufo['date'].dt.year #extract year from date column and add year column to ufo\n",
    "ufo = ufo.set_index('year') #set year as the index of ufo"
   ]
  },
  {
   "cell_type": "code",
   "execution_count": 24,
   "metadata": {
    "collapsed": true
   },
   "outputs": [],
   "source": [
    "abbr_to_fips = us.states.mapping('abbr', 'fips') #state abbreviation to FIPS code\n",
    "ufo[\"fips\"] = ufo[\"state\"].apply(lambda a: int(abbr_to_fips.get(str(a).upper(), -1))) #add fips column to ufo\n",
    "fips_count = ufo.groupby(\"fips\")[\"report_date\"].count()\n",
    "total_s = fips_count #total sightings of all time aggregated by state\n",
    "total_t = ufo.groupby(\"fips\")[\"duration_seconds\"].sum() #total duration seconds of all time aggregated by state\n",
    "label_s = ['State', 'Total sightings'] #tooltip label when field selected is Total sightings.\n",
    "label_t = ['State', 'Total time'] #tooltip label when field selected is Total time."
   ]
  },
  {
   "cell_type": "code",
   "execution_count": 25,
   "metadata": {
    "collapsed": true
   },
   "outputs": [],
   "source": [
    "total_sightings = ufo.groupby([\"fips\", \"year\"])[\"duration_seconds\"].count()  #total sightings in each state aggregated by year \n",
    "total_time = ufo.groupby([\"fips\", \"year\"])[\"duration_seconds\"].sum() #total duration seconds in each state aggregated by year"
   ]
  },
  {
   "cell_type": "code",
   "execution_count": 41,
   "metadata": {},
   "outputs": [],
   "source": [
    "ufo_vals = pd.DataFrame([total_s, total_t])\n",
    "ufo_vals.rename({'report_date': 'total_sightings', 'duration_seconds': 'total_time'}, inplace=True)\n",
    "ufo_vals = ufo_vals.transpose()\n",
    "ufo_vals = ufo_vals.reset_index()"
   ]
  },
  {
   "cell_type": "code",
   "execution_count": 42,
   "metadata": {
    "collapsed": true
   },
   "outputs": [],
   "source": [
    "total_s_yr = ufo.groupby('year')[\"duration_seconds\"].count() #total sightings in all states aggregated by year.\n",
    "total_t_yr = ufo.groupby('year')[\"duration_seconds\"].sum() #total duration seconds in all states aggregated by year."
   ]
  },
  {
   "cell_type": "code",
   "execution_count": 53,
   "metadata": {},
   "outputs": [
    {
     "data": {
      "text/plain": [
       "fips\n",
       "-1    9394\n",
       " 1     691\n",
       " 2     354\n",
       " 4    2689\n",
       " 5     666\n",
       "Name: report_date, dtype: int64"
      ]
     },
     "execution_count": 53,
     "metadata": {},
     "output_type": "execute_result"
    }
   ],
   "source": [
    "total_s.head()"
   ]
  },
  {
   "cell_type": "code",
   "execution_count": 54,
   "metadata": {},
   "outputs": [
    {
     "data": {
      "text/plain": [
       "fips  year\n",
       "-1    1906    1\n",
       "      1916    1\n",
       "      1936    1\n",
       "      1943    4\n",
       "      1944    3\n",
       "Name: duration_seconds, dtype: int64"
      ]
     },
     "execution_count": 54,
     "metadata": {},
     "output_type": "execute_result"
    }
   ],
   "source": [
    "total_sightings.head()"
   ]
  },
  {
   "cell_type": "code",
   "execution_count": 55,
   "metadata": {},
   "outputs": [
    {
     "data": {
      "text/plain": [
       "year\n",
       "1906    1\n",
       "1910    2\n",
       "1916    1\n",
       "1920    1\n",
       "1925    1\n",
       "Name: duration_seconds, dtype: int64"
      ]
     },
     "execution_count": 55,
     "metadata": {},
     "output_type": "execute_result"
    }
   ],
   "source": [
    "total_s_yr.head()"
   ]
  },
  {
   "cell_type": "markdown",
   "metadata": {},
   "source": [
    "## State Information Data"
   ]
  },
  {
   "cell_type": "code",
   "execution_count": 58,
   "metadata": {
    "collapsed": true
   },
   "outputs": [],
   "source": [
    "names1 = [\"population\", \"geo\", \"pop_per_sqmile\", \"area\", \"fips\"]\n",
    "state_info = pd.read_csv(\"census_state_quickfacts.csv\", names = names1)\n",
    "#state_info data downloaded from https://data.world/aaronhoffman/census-gov-state-quickfacts\n",
    "#selected \"Population; Census; April 1; 2010\", \"Geography\", \"Population per square mile; 2010\", \n",
    "#\"Land area in square miles; 2010\", \"FIPS Code\". Data cleaned and transposed before uploaded into Jupyter Notebok."
   ]
  },
  {
   "cell_type": "code",
   "execution_count": 59,
   "metadata": {},
   "outputs": [],
   "source": [
    "ufo_all = ufo_vals.join(state_info.set_index('fips'), on='fips')\n",
    "#join columns from state_info with ufo_vals on fips column."
   ]
  },
  {
   "cell_type": "code",
   "execution_count": 60,
   "metadata": {},
   "outputs": [
    {
     "data": {
      "text/html": [
       "<div>\n",
       "<style scoped>\n",
       "    .dataframe tbody tr th:only-of-type {\n",
       "        vertical-align: middle;\n",
       "    }\n",
       "\n",
       "    .dataframe tbody tr th {\n",
       "        vertical-align: top;\n",
       "    }\n",
       "\n",
       "    .dataframe thead th {\n",
       "        text-align: right;\n",
       "    }\n",
       "</style>\n",
       "<table border=\"1\" class=\"dataframe\">\n",
       "  <thead>\n",
       "    <tr style=\"text-align: right;\">\n",
       "      <th></th>\n",
       "      <th>fips</th>\n",
       "      <th>total_sightings</th>\n",
       "      <th>total_time</th>\n",
       "      <th>population</th>\n",
       "      <th>geo</th>\n",
       "      <th>pop_per_sqmile</th>\n",
       "      <th>area</th>\n",
       "    </tr>\n",
       "  </thead>\n",
       "  <tbody>\n",
       "    <tr>\n",
       "      <th>0</th>\n",
       "      <td>-1</td>\n",
       "      <td>9394.0</td>\n",
       "      <td>3.185661e+08</td>\n",
       "      <td>NaN</td>\n",
       "      <td>NaN</td>\n",
       "      <td>NaN</td>\n",
       "      <td>NaN</td>\n",
       "    </tr>\n",
       "    <tr>\n",
       "      <th>1</th>\n",
       "      <td>1</td>\n",
       "      <td>691.0</td>\n",
       "      <td>9.628455e+05</td>\n",
       "      <td>4779736.0</td>\n",
       "      <td>Alabama</td>\n",
       "      <td>94.4</td>\n",
       "      <td>50645.33</td>\n",
       "    </tr>\n",
       "    <tr>\n",
       "      <th>2</th>\n",
       "      <td>2</td>\n",
       "      <td>354.0</td>\n",
       "      <td>1.498068e+06</td>\n",
       "      <td>710231.0</td>\n",
       "      <td>Alaska</td>\n",
       "      <td>1.2</td>\n",
       "      <td>570640.95</td>\n",
       "    </tr>\n",
       "    <tr>\n",
       "      <th>3</th>\n",
       "      <td>4</td>\n",
       "      <td>2689.0</td>\n",
       "      <td>1.599094e+07</td>\n",
       "      <td>6392017.0</td>\n",
       "      <td>Arizona</td>\n",
       "      <td>56.3</td>\n",
       "      <td>113594.08</td>\n",
       "    </tr>\n",
       "    <tr>\n",
       "      <th>4</th>\n",
       "      <td>5</td>\n",
       "      <td>666.0</td>\n",
       "      <td>6.717751e+07</td>\n",
       "      <td>2915918.0</td>\n",
       "      <td>Arkansas</td>\n",
       "      <td>56.0</td>\n",
       "      <td>52035.48</td>\n",
       "    </tr>\n",
       "  </tbody>\n",
       "</table>\n",
       "</div>"
      ],
      "text/plain": [
       "   fips  total_sightings    total_time  population       geo  pop_per_sqmile  \\\n",
       "0    -1           9394.0  3.185661e+08         NaN       NaN             NaN   \n",
       "1     1            691.0  9.628455e+05   4779736.0   Alabama            94.4   \n",
       "2     2            354.0  1.498068e+06    710231.0    Alaska             1.2   \n",
       "3     4           2689.0  1.599094e+07   6392017.0   Arizona            56.3   \n",
       "4     5            666.0  6.717751e+07   2915918.0  Arkansas            56.0   \n",
       "\n",
       "        area  \n",
       "0        NaN  \n",
       "1   50645.33  \n",
       "2  570640.95  \n",
       "3  113594.08  \n",
       "4   52035.48  "
      ]
     },
     "execution_count": 60,
     "metadata": {},
     "output_type": "execute_result"
    }
   ],
   "source": [
    "ufo_all.head()"
   ]
  },
  {
   "cell_type": "markdown",
   "metadata": {},
   "source": [
    "## Normalization"
   ]
  },
  {
   "cell_type": "code",
   "execution_count": 61,
   "metadata": {
    "collapsed": true
   },
   "outputs": [],
   "source": [
    "ufo_all['total_sightings_capita'] = ufo_all['total_sightings']/ufo_all['population']\n",
    "ufo_all['total_time_capita'] = ufo_all['total_time']/ufo_all['population']\n",
    "ufo_all['total_sightings_sqmile'] = ufo_all['total_sightings']/ufo_all['area']\n",
    "ufo_all['total_time_sqmile'] = ufo_all['total_time']/ufo_all['area']"
   ]
  },
  {
   "cell_type": "code",
   "execution_count": 62,
   "metadata": {},
   "outputs": [
    {
     "data": {
      "text/html": [
       "<div>\n",
       "<style scoped>\n",
       "    .dataframe tbody tr th:only-of-type {\n",
       "        vertical-align: middle;\n",
       "    }\n",
       "\n",
       "    .dataframe tbody tr th {\n",
       "        vertical-align: top;\n",
       "    }\n",
       "\n",
       "    .dataframe thead th {\n",
       "        text-align: right;\n",
       "    }\n",
       "</style>\n",
       "<table border=\"1\" class=\"dataframe\">\n",
       "  <thead>\n",
       "    <tr style=\"text-align: right;\">\n",
       "      <th></th>\n",
       "      <th>fips</th>\n",
       "      <th>total_sightings</th>\n",
       "      <th>total_time</th>\n",
       "      <th>population</th>\n",
       "      <th>geo</th>\n",
       "      <th>pop_per_sqmile</th>\n",
       "      <th>area</th>\n",
       "      <th>total_sightings_capita</th>\n",
       "      <th>total_time_capita</th>\n",
       "      <th>total_sightings_sqmile</th>\n",
       "      <th>total_time_sqmile</th>\n",
       "    </tr>\n",
       "  </thead>\n",
       "  <tbody>\n",
       "    <tr>\n",
       "      <th>0</th>\n",
       "      <td>-1</td>\n",
       "      <td>9394.0</td>\n",
       "      <td>3.185661e+08</td>\n",
       "      <td>NaN</td>\n",
       "      <td>NaN</td>\n",
       "      <td>NaN</td>\n",
       "      <td>NaN</td>\n",
       "      <td>NaN</td>\n",
       "      <td>NaN</td>\n",
       "      <td>NaN</td>\n",
       "      <td>NaN</td>\n",
       "    </tr>\n",
       "    <tr>\n",
       "      <th>1</th>\n",
       "      <td>1</td>\n",
       "      <td>691.0</td>\n",
       "      <td>9.628455e+05</td>\n",
       "      <td>4779736.0</td>\n",
       "      <td>Alabama</td>\n",
       "      <td>94.4</td>\n",
       "      <td>50645.33</td>\n",
       "      <td>0.000145</td>\n",
       "      <td>0.201443</td>\n",
       "      <td>0.013644</td>\n",
       "      <td>19.011536</td>\n",
       "    </tr>\n",
       "    <tr>\n",
       "      <th>2</th>\n",
       "      <td>2</td>\n",
       "      <td>354.0</td>\n",
       "      <td>1.498068e+06</td>\n",
       "      <td>710231.0</td>\n",
       "      <td>Alaska</td>\n",
       "      <td>1.2</td>\n",
       "      <td>570640.95</td>\n",
       "      <td>0.000498</td>\n",
       "      <td>2.109269</td>\n",
       "      <td>0.000620</td>\n",
       "      <td>2.625237</td>\n",
       "    </tr>\n",
       "    <tr>\n",
       "      <th>3</th>\n",
       "      <td>4</td>\n",
       "      <td>2689.0</td>\n",
       "      <td>1.599094e+07</td>\n",
       "      <td>6392017.0</td>\n",
       "      <td>Arizona</td>\n",
       "      <td>56.3</td>\n",
       "      <td>113594.08</td>\n",
       "      <td>0.000421</td>\n",
       "      <td>2.501705</td>\n",
       "      <td>0.023672</td>\n",
       "      <td>140.772645</td>\n",
       "    </tr>\n",
       "    <tr>\n",
       "      <th>4</th>\n",
       "      <td>5</td>\n",
       "      <td>666.0</td>\n",
       "      <td>6.717751e+07</td>\n",
       "      <td>2915918.0</td>\n",
       "      <td>Arkansas</td>\n",
       "      <td>56.0</td>\n",
       "      <td>52035.48</td>\n",
       "      <td>0.000228</td>\n",
       "      <td>23.038204</td>\n",
       "      <td>0.012799</td>\n",
       "      <td>1290.994423</td>\n",
       "    </tr>\n",
       "  </tbody>\n",
       "</table>\n",
       "</div>"
      ],
      "text/plain": [
       "   fips  total_sightings    total_time  population       geo  pop_per_sqmile  \\\n",
       "0    -1           9394.0  3.185661e+08         NaN       NaN             NaN   \n",
       "1     1            691.0  9.628455e+05   4779736.0   Alabama            94.4   \n",
       "2     2            354.0  1.498068e+06    710231.0    Alaska             1.2   \n",
       "3     4           2689.0  1.599094e+07   6392017.0   Arizona            56.3   \n",
       "4     5            666.0  6.717751e+07   2915918.0  Arkansas            56.0   \n",
       "\n",
       "        area  total_sightings_capita  total_time_capita  \\\n",
       "0        NaN                     NaN                NaN   \n",
       "1   50645.33                0.000145           0.201443   \n",
       "2  570640.95                0.000498           2.109269   \n",
       "3  113594.08                0.000421           2.501705   \n",
       "4   52035.48                0.000228          23.038204   \n",
       "\n",
       "   total_sightings_sqmile  total_time_sqmile  \n",
       "0                     NaN                NaN  \n",
       "1                0.013644          19.011536  \n",
       "2                0.000620           2.625237  \n",
       "3                0.023672         140.772645  \n",
       "4                0.012799        1290.994423  "
      ]
     },
     "execution_count": 62,
     "metadata": {},
     "output_type": "execute_result"
    }
   ],
   "source": [
    "ufo_all.head()"
   ]
  },
  {
   "cell_type": "code",
   "execution_count": null,
   "metadata": {
    "collapsed": true
   },
   "outputs": [],
   "source": [
    "## First we define a Figure\n",
    "dt_x_fast = LinearScale() #scale of x-axis\n",
    "lin_y = LinearScale() #scale of y-axis\n",
    "\n",
    "x_ax = Axis(label='Year', scale=dt_x_fast) #x-axis\n",
    "x_ay = Axis(scale=lin_y, orientation='vertical') #y-axis\n",
    "lc = Lines(x=total_s_yr.index.values, y=total_s_yr.values, scales={'x':dt_x_fast,'y':lin_y}, colors = ['orange'])\n",
    "#lc is the line of total sightings as a function of year."
   ]
  },
  {
   "cell_type": "code",
   "execution_count": null,
   "metadata": {
    "collapsed": true
   },
   "outputs": [],
   "source": [
    "map_styles = {'scales': {'projection': bqplot.AlbersUSA(scale_factor=1500),\n",
    "                         'color': bqplot.ColorScale(scheme='RdBu')},\n",
    "              'color': total_s.to_dict()}\n",
    "map_tt = bqplot.Tooltip(fields = ['name','color'], labels = ['State','Total sightings'])\n",
    "states_map = bqplot.Map(map_data=bqplot.topo_load('map_data/USStatesMap.json'),\n",
    "                        interactions = {'click':'select','hover':'tooltip'},\n",
    "                        **map_styles, tooltip = map_tt)\n",
    "map_fig = bqplot.Figure(marks=[states_map], fig_margin={'top':60,'bottom':5,'left':-5,'right':-10},\n",
    "                        layout=ipywidgets.Layout(height='520px', width='520px'),\n",
    "                    title='UFO Sightings in the United States')"
   ]
  },
  {
   "cell_type": "code",
   "execution_count": null,
   "metadata": {
    "collapsed": true
   },
   "outputs": [],
   "source": [
    "numerical_cols = ['Total sightings','Total time']\n",
    "field_select = Dropdown(options=['Total sightings','Total time'], value='Total sightings', description='Field')"
   ]
  },
  {
   "cell_type": "code",
   "execution_count": null,
   "metadata": {},
   "outputs": [],
   "source": [
    "index = int() # index being an integer, the fips we sued to identify the state selected.\n",
    "def state_select(change):\n",
    "    ind = intsel_fast.selected\n",
    "    if states_map.selected:\n",
    "        for i in np.array(list(abbr_to_fips.values())): # get the fips value from abbr_to_fips\n",
    "            if i is not None:\n",
    "                if states_map.selected[-1] == int(i): # fips value string to integer\n",
    "                    global index\n",
    "                    index = int(i)             \n",
    "                    if field_select.value == 'Total sightings':\n",
    "                        lc.x = total_sightings[index].index.values\n",
    "                        lc.y = total_sightings[index].values\n",
    "                        if ind is not None:\n",
    "                            if any(ind):\n",
    "                                tot = total_sightings[index].loc[ind[0]:ind[-1]].sum()\n",
    "                                db_fast.value = 'The selected period is '+str(int(ind[0]))+' to '+str(int(ind[-1]))+'. Total sightings: '+str(tot)\n",
    "                    \n",
    "                    if field_select.value == 'Total time':\n",
    "                        lc.x = total_time[index].index.values\n",
    "                        lc.y = total_time[index].values \n",
    "                        if ind is not None:\n",
    "                            if any(ind):\n",
    "                                tot = total_time[index].loc[ind[0]:ind[-1]].sum()\n",
    "                                db_fast.value = 'The selected period is '+str(int(ind[0]))+' to '+str(int(ind[-1]))+'. Total duration seconds: '+str(tot)\n",
    "    else:\n",
    "        index = int()\n",
    "        if field_select.value == 'Total sightings':\n",
    "            lc.x = total_s_yr.index.values\n",
    "            lc.y = total_s_yr.values\n",
    "        if field_select.value == 'Total time':\n",
    "            lc.x = total_t_yr.index.values\n",
    "            lc.y = total_t_yr.values\n",
    "        if ind is not None:\n",
    "            if any(ind):\n",
    "                if field_select.value == 'Total sightings':\n",
    "                    tot = total_s_yr.loc[ind[0]:ind[-1]].sum() \n",
    "                    db_fast.value = 'The selected period is '+str(int(ind[0]))+' to '+str(int(ind[-1]))+'. Total sightings: '+str(tot)\n",
    "                if field_select.value == 'Total time':\n",
    "                    tot = total_t_yr.loc[ind[0]:ind[-1]].sum()\n",
    "                    db_fast.value = 'The selected period is '+str(int(ind[0]))+' to '+str(int(ind[-1]))+'. Total duration seconds: '+str(tot)\n",
    "        \n",
    "states_map.observe(state_select, 'selected')"
   ]
  },
  {
   "cell_type": "code",
   "execution_count": null,
   "metadata": {},
   "outputs": [],
   "source": [
    "## Next we define the type of selector we would like\n",
    "intsel_fast = FastIntervalSelector(scale=dt_x_fast, marks=[lc])\n",
    "\n",
    "## Now, we define a function that will be called when the FastIntervalSelector is interacted with\n",
    "def fast_interval_change_callback(change):\n",
    "    ind = change.new\n",
    "    if any(ind):\n",
    "        if field_select.value == 'Total sightings':\n",
    "            if states_map.selected:\n",
    "                tot = total_sightings[index].loc[ind[0]:ind[-1]].sum()               \n",
    "            else:\n",
    "                tot = total_s_yr.loc[ind[0]:ind[-1]].sum()\n",
    "            db_fast.value = 'The selected period is '+str(int(ind[0]))+' to '+str(int(ind[-1]))+'. Total sightings: '+str(tot)\n",
    "        if field_select.value == 'Total time':\n",
    "            if states_map.selected:\n",
    "                tot = total_time[index].loc[ind[0]:ind[-1]].sum()\n",
    "            else:\n",
    "                tot = total_t_yr.loc[ind[0]:ind[-1]].sum()\n",
    "            db_fast.value = 'The selected period is '+str(int(ind[0]))+' to '+str(int(ind[-1]))+'. Total duration seconds: '+str(tot)\n",
    "\n",
    "## Now we connect the selectors to that function\n",
    "intsel_fast.observe(fast_interval_change_callback, names=['selected'])"
   ]
  },
  {
   "cell_type": "code",
   "execution_count": null,
   "metadata": {
    "collapsed": true
   },
   "outputs": [],
   "source": [
    "## We use the HTML widget to see the value of what we are selecting and modify it when an interaction is performed\n",
    "## on the selector\n",
    "db_fast = HTML()\n",
    "db_fast.value = 'The selected period is ' + str(intsel_fast.selected)\n",
    "\n",
    "fig_fast_intsel = Figure(marks=[lc], axes=[x_ax, x_ay], fig_margin={'top':59,'bottom':40,'left':50,'right':0},\n",
    "                         layout=ipywidgets.Layout(height='450px', width='450px'),\n",
    "                         interaction=intsel_fast) #This is where we assign the interaction to this particular Figure"
   ]
  },
  {
   "cell_type": "code",
   "execution_count": null,
   "metadata": {
    "collapsed": true
   },
   "outputs": [],
   "source": [
    "# function for dropdown box field change\n",
    "\n",
    "def field_changed(change):\n",
    "    field = change['new']\n",
    "    ind = intsel_fast.selected\n",
    "    if field == 'Total sightings':\n",
    "        states_map.color = total_s.to_dict()\n",
    "        map_tt.labels = label_s\n",
    "        if states_map.selected:\n",
    "            lc.x = total_sightings[index].index.values\n",
    "            lc.y = total_sightings[index].values\n",
    "            if ind is not None:\n",
    "                if any(ind):\n",
    "                    tot = total_sightings[index].loc[ind[0]:ind[-1]].sum()\n",
    "                    db_fast.value = 'The selected time period is %s to %s. Total sightings: %s'%(int(ind[0]),int(ind[-1]),str(tot))\n",
    "        else:\n",
    "            lc.x = total_s_yr.index.values\n",
    "            lc.y = total_s_yr.values\n",
    "            if ind is not None:\n",
    "                if any(ind):\n",
    "                    tot = total_s_yr.loc[ind[0]:ind[-1]].sum()\n",
    "                    db_fast.value = 'The selected time period is %s to %s. Total sightings: %s'%(int(ind[0]),int(ind[-1]),str(tot))\n",
    "            \n",
    "    if field == 'Total time':\n",
    "        states_map.color = total_t.to_dict()\n",
    "        map_tt.labels = label_t\n",
    "        if states_map.selected:\n",
    "            lc.x = total_time[index].index.values\n",
    "            lc.y = total_time[index].values\n",
    "            if ind is not None:\n",
    "                if any(ind):\n",
    "                    tot = total_time[index].loc[ind[0]:ind[-1]].sum()\n",
    "                    db_fast.value = 'The selected time period is %s to %s. Total duration seconds: %s'%(int(ind[0]),int(ind[-1]),str(tot))\n",
    "        else:\n",
    "            lc.x = total_t_yr.index.values\n",
    "            lc.y = total_t_yr.values\n",
    "            if ind is not None:\n",
    "                if any(ind):\n",
    "                    tot = total_t_yr.loc[ind[0]:ind[-1]].sum()\n",
    "                    db_fast.value = 'The selected time period is %s to %s. Total duration seconds: %s'%(int(ind[0]),int(ind[-1]),str(tot))\n",
    "\n",
    "field_select.observe(field_changed, 'value')"
   ]
  },
  {
   "cell_type": "code",
   "execution_count": null,
   "metadata": {},
   "outputs": [],
   "source": [
    "def a():\n",
    "    b = HBox([VBox([field_select, map_fig]), VBox([db_fast, fig_fast_intsel])])\n",
    "    return b"
   ]
  },
  {
   "cell_type": "code",
   "execution_count": null,
   "metadata": {},
   "outputs": [],
   "source": [
    "a()"
   ]
  },
  {
   "cell_type": "code",
   "execution_count": null,
   "metadata": {
    "collapsed": true
   },
   "outputs": [],
   "source": []
  },
  {
   "cell_type": "code",
   "execution_count": null,
   "metadata": {
    "collapsed": true
   },
   "outputs": [],
   "source": []
  }
 ],
 "metadata": {
  "kernelspec": {
   "display_name": "Python 3",
   "language": "python",
   "name": "python3"
  },
  "language_info": {
   "codemirror_mode": {
    "name": "ipython",
    "version": 3
   },
   "file_extension": ".py",
   "mimetype": "text/x-python",
   "name": "python",
   "nbconvert_exporter": "python",
   "pygments_lexer": "ipython3",
   "version": "3.6.3"
  }
 },
 "nbformat": 4,
 "nbformat_minor": 2
}
