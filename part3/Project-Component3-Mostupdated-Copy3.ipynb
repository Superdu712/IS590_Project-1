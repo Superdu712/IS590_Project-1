{
 "cells": [
  {
   "cell_type": "code",
   "execution_count": 1,
   "metadata": {},
   "outputs": [
    {
     "name": "stderr",
     "output_type": "stream",
     "text": [
      "/Users/Riku/miniconda3/lib/python3.6/site-packages/matplotlib/colors.py:680: MatplotlibDeprecationWarning: The is_string_like function was deprecated in version 2.1.\n",
      "  not cbook.is_string_like(colors[0]):\n",
      "/Users/Riku/miniconda3/lib/python3.6/site-packages/matplotlib/cm.py:131: MatplotlibDeprecationWarning: The is_string_like function was deprecated in version 2.1.\n",
      "  if not cbook.is_string_like(name):\n"
     ]
    }
   ],
   "source": [
    "import pandas as pd\n",
    "import bqplot\n",
    "import yt\n",
    "import us\n",
    "import ipywidgets\n",
    "import numpy as np\n",
    "\n",
    "symbol_s = 'Total Sightings'\n",
    "symbol_t = 'Total Duration Seconds'"
   ]
  },
  {
   "cell_type": "code",
   "execution_count": 2,
   "metadata": {},
   "outputs": [],
   "source": [
    "from bqplot import ColorScale, LinearScale, LogScale, Axis, Lines, Figure\n",
    "from ipywidgets import Layout, Dropdown, HBox, VBox, HTML\n",
    "from traitlets import link\n",
    "from bqplot.interacts import FastIntervalSelector"
   ]
  },
  {
   "cell_type": "markdown",
   "metadata": {},
   "source": [
    "## UFO Data"
   ]
  },
  {
   "cell_type": "code",
   "execution_count": 3,
   "metadata": {},
   "outputs": [],
   "source": [
    "names = [\"date\", \"city\", \"state\", \"country\", \"shape\", \"duration_seconds\",\n",
    "         \"duration_reported\", \"description\", \"report_date\", \"latitude\",\n",
    "         \"longitude\"]\n",
    "fn = \"../data/ufo-scrubbed-geocoded-time-standardized.csv\"\n",
    "ufo = pd.read_csv(fn, names = names, parse_dates = [\"date\", \"report_date\"])"
   ]
  },
  {
   "cell_type": "code",
   "execution_count": 4,
   "metadata": {},
   "outputs": [],
   "source": [
    "ufo['year'] = ufo['date'].dt.year #extract year from date column and add year column to ufo\n",
    "ufo = ufo.set_index('year') #set year as the index of ufo"
   ]
  },
  {
   "cell_type": "code",
   "execution_count": 5,
   "metadata": {},
   "outputs": [],
   "source": [
    "abbr_to_fips = us.states.mapping('abbr', 'fips') #state abbreviation to FIPS code\n",
    "ufo[\"fips\"] = ufo[\"state\"].apply(lambda a: int(abbr_to_fips.get(str(a).upper(), -1))) #add fips column to ufo\n",
    "fips_count = ufo.groupby(\"fips\")[\"report_date\"].count()\n",
    "total_s = fips_count #total sightings of all time aggregated by state\n",
    "total_t = ufo.groupby(\"fips\")[\"duration_seconds\"].sum() #total duration seconds of all time aggregated by state\n",
    "label_s = ['State', 'Total sightings'] #tooltip label when field selected is Total sightings.\n",
    "label_t = ['State', 'Total time'] #tooltip label when field selected is Total time."
   ]
  },
  {
   "cell_type": "code",
   "execution_count": 6,
   "metadata": {},
   "outputs": [],
   "source": [
    "total_sightings = ufo.groupby([\"fips\", \"year\"])[\"duration_seconds\"].count()  #total sightings in each state aggregated by year \n",
    "total_time = ufo.groupby([\"fips\", \"year\"])[\"duration_seconds\"].sum() #total duration seconds in each state aggregated by year"
   ]
  },
  {
   "cell_type": "code",
   "execution_count": 7,
   "metadata": {},
   "outputs": [],
   "source": [
    "ufo_vals = pd.DataFrame([total_s, total_t])\n",
    "ufo_vals.rename({'report_date': 'total_sightings', 'duration_seconds': 'total_time'}, inplace=True)\n",
    "ufo_vals = ufo_vals.transpose()\n",
    "ufo_vals = ufo_vals.reset_index()"
   ]
  },
  {
   "cell_type": "code",
   "execution_count": 8,
   "metadata": {},
   "outputs": [],
   "source": [
    "total_s_yr = ufo.groupby('year')[\"duration_seconds\"].count() #total sightings in all states aggregated by year.\n",
    "total_t_yr = ufo.groupby('year')[\"duration_seconds\"].sum() #total duration seconds in all states aggregated by year."
   ]
  },
  {
   "cell_type": "code",
   "execution_count": 9,
   "metadata": {},
   "outputs": [
    {
     "data": {
      "text/plain": [
       "fips\n",
       "-1    9394\n",
       " 1     691\n",
       " 2     354\n",
       " 4    2689\n",
       " 5     666\n",
       "Name: report_date, dtype: int64"
      ]
     },
     "execution_count": 9,
     "metadata": {},
     "output_type": "execute_result"
    }
   ],
   "source": [
    "total_s.head()"
   ]
  },
  {
   "cell_type": "code",
   "execution_count": 10,
   "metadata": {},
   "outputs": [
    {
     "data": {
      "text/plain": [
       "fips  year\n",
       "-1    1906    1\n",
       "      1916    1\n",
       "      1936    1\n",
       "      1943    4\n",
       "      1944    3\n",
       "Name: duration_seconds, dtype: int64"
      ]
     },
     "execution_count": 10,
     "metadata": {},
     "output_type": "execute_result"
    }
   ],
   "source": [
    "total_sightings.head()"
   ]
  },
  {
   "cell_type": "code",
   "execution_count": 11,
   "metadata": {},
   "outputs": [
    {
     "data": {
      "text/plain": [
       "year\n",
       "1906    1\n",
       "1910    2\n",
       "1916    1\n",
       "1920    1\n",
       "1925    1\n",
       "Name: duration_seconds, dtype: int64"
      ]
     },
     "execution_count": 11,
     "metadata": {},
     "output_type": "execute_result"
    }
   ],
   "source": [
    "total_s_yr.head()"
   ]
  },
  {
   "cell_type": "markdown",
   "metadata": {},
   "source": [
    "## State Information Data"
   ]
  },
  {
   "cell_type": "code",
   "execution_count": 13,
   "metadata": {},
   "outputs": [
    {
     "ename": "FileNotFoundError",
     "evalue": "File b'census_state_quickfacts.csv' does not exist",
     "output_type": "error",
     "traceback": [
      "\u001b[0;31m---------------------------------------------------------------------------\u001b[0m",
      "\u001b[0;31mFileNotFoundError\u001b[0m                         Traceback (most recent call last)",
      "\u001b[0;32m<ipython-input-13-1a87ba161108>\u001b[0m in \u001b[0;36m<module>\u001b[0;34m()\u001b[0m\n\u001b[1;32m      1\u001b[0m \u001b[0mnames1\u001b[0m \u001b[0;34m=\u001b[0m \u001b[0;34m[\u001b[0m\u001b[0;34m\"population\"\u001b[0m\u001b[0;34m,\u001b[0m \u001b[0;34m\"geo\"\u001b[0m\u001b[0;34m,\u001b[0m \u001b[0;34m\"pop_per_sqmile\"\u001b[0m\u001b[0;34m,\u001b[0m \u001b[0;34m\"area\"\u001b[0m\u001b[0;34m,\u001b[0m \u001b[0;34m\"fips\"\u001b[0m\u001b[0;34m]\u001b[0m\u001b[0;34m\u001b[0m\u001b[0m\n\u001b[0;32m----> 2\u001b[0;31m \u001b[0mstate_info\u001b[0m \u001b[0;34m=\u001b[0m \u001b[0mpd\u001b[0m\u001b[0;34m.\u001b[0m\u001b[0mread_csv\u001b[0m\u001b[0;34m(\u001b[0m\u001b[0;34m\"census_state_quickfacts.csv\"\u001b[0m\u001b[0;34m,\u001b[0m \u001b[0mnames\u001b[0m \u001b[0;34m=\u001b[0m \u001b[0mnames1\u001b[0m\u001b[0;34m)\u001b[0m\u001b[0;34m\u001b[0m\u001b[0m\n\u001b[0m\u001b[1;32m      3\u001b[0m \u001b[0;31m#state_info data downloaded from https://data.world/aaronhoffman/census-gov-state-quickfacts\u001b[0m\u001b[0;34m\u001b[0m\u001b[0;34m\u001b[0m\u001b[0m\n\u001b[1;32m      4\u001b[0m \u001b[0;31m#selected \"Population; Census; April 1; 2010\", \"Geography\", \"Population per square mile; 2010\",\u001b[0m\u001b[0;34m\u001b[0m\u001b[0;34m\u001b[0m\u001b[0m\n\u001b[1;32m      5\u001b[0m \u001b[0;31m#\"Land area in square miles; 2010\", \"FIPS Code\". Data cleaned and transposed before uploaded into Jupyter Notebok.\u001b[0m\u001b[0;34m\u001b[0m\u001b[0;34m\u001b[0m\u001b[0m\n",
      "\u001b[0;32m~/miniconda3/lib/python3.6/site-packages/pandas/io/parsers.py\u001b[0m in \u001b[0;36mparser_f\u001b[0;34m(filepath_or_buffer, sep, delimiter, header, names, index_col, usecols, squeeze, prefix, mangle_dupe_cols, dtype, engine, converters, true_values, false_values, skipinitialspace, skiprows, nrows, na_values, keep_default_na, na_filter, verbose, skip_blank_lines, parse_dates, infer_datetime_format, keep_date_col, date_parser, dayfirst, iterator, chunksize, compression, thousands, decimal, lineterminator, quotechar, quoting, escapechar, comment, encoding, dialect, tupleize_cols, error_bad_lines, warn_bad_lines, skipfooter, skip_footer, doublequote, delim_whitespace, as_recarray, compact_ints, use_unsigned, low_memory, buffer_lines, memory_map, float_precision)\u001b[0m\n\u001b[1;32m    653\u001b[0m                     skip_blank_lines=skip_blank_lines)\n\u001b[1;32m    654\u001b[0m \u001b[0;34m\u001b[0m\u001b[0m\n\u001b[0;32m--> 655\u001b[0;31m         \u001b[0;32mreturn\u001b[0m \u001b[0m_read\u001b[0m\u001b[0;34m(\u001b[0m\u001b[0mfilepath_or_buffer\u001b[0m\u001b[0;34m,\u001b[0m \u001b[0mkwds\u001b[0m\u001b[0;34m)\u001b[0m\u001b[0;34m\u001b[0m\u001b[0m\n\u001b[0m\u001b[1;32m    656\u001b[0m \u001b[0;34m\u001b[0m\u001b[0m\n\u001b[1;32m    657\u001b[0m     \u001b[0mparser_f\u001b[0m\u001b[0;34m.\u001b[0m\u001b[0m__name__\u001b[0m \u001b[0;34m=\u001b[0m \u001b[0mname\u001b[0m\u001b[0;34m\u001b[0m\u001b[0m\n",
      "\u001b[0;32m~/miniconda3/lib/python3.6/site-packages/pandas/io/parsers.py\u001b[0m in \u001b[0;36m_read\u001b[0;34m(filepath_or_buffer, kwds)\u001b[0m\n\u001b[1;32m    403\u001b[0m \u001b[0;34m\u001b[0m\u001b[0m\n\u001b[1;32m    404\u001b[0m     \u001b[0;31m# Create the parser.\u001b[0m\u001b[0;34m\u001b[0m\u001b[0;34m\u001b[0m\u001b[0m\n\u001b[0;32m--> 405\u001b[0;31m     \u001b[0mparser\u001b[0m \u001b[0;34m=\u001b[0m \u001b[0mTextFileReader\u001b[0m\u001b[0;34m(\u001b[0m\u001b[0mfilepath_or_buffer\u001b[0m\u001b[0;34m,\u001b[0m \u001b[0;34m**\u001b[0m\u001b[0mkwds\u001b[0m\u001b[0;34m)\u001b[0m\u001b[0;34m\u001b[0m\u001b[0m\n\u001b[0m\u001b[1;32m    406\u001b[0m \u001b[0;34m\u001b[0m\u001b[0m\n\u001b[1;32m    407\u001b[0m     \u001b[0;32mif\u001b[0m \u001b[0mchunksize\u001b[0m \u001b[0;32mor\u001b[0m \u001b[0miterator\u001b[0m\u001b[0;34m:\u001b[0m\u001b[0;34m\u001b[0m\u001b[0m\n",
      "\u001b[0;32m~/miniconda3/lib/python3.6/site-packages/pandas/io/parsers.py\u001b[0m in \u001b[0;36m__init__\u001b[0;34m(self, f, engine, **kwds)\u001b[0m\n\u001b[1;32m    762\u001b[0m             \u001b[0mself\u001b[0m\u001b[0;34m.\u001b[0m\u001b[0moptions\u001b[0m\u001b[0;34m[\u001b[0m\u001b[0;34m'has_index_names'\u001b[0m\u001b[0;34m]\u001b[0m \u001b[0;34m=\u001b[0m \u001b[0mkwds\u001b[0m\u001b[0;34m[\u001b[0m\u001b[0;34m'has_index_names'\u001b[0m\u001b[0;34m]\u001b[0m\u001b[0;34m\u001b[0m\u001b[0m\n\u001b[1;32m    763\u001b[0m \u001b[0;34m\u001b[0m\u001b[0m\n\u001b[0;32m--> 764\u001b[0;31m         \u001b[0mself\u001b[0m\u001b[0;34m.\u001b[0m\u001b[0m_make_engine\u001b[0m\u001b[0;34m(\u001b[0m\u001b[0mself\u001b[0m\u001b[0;34m.\u001b[0m\u001b[0mengine\u001b[0m\u001b[0;34m)\u001b[0m\u001b[0;34m\u001b[0m\u001b[0m\n\u001b[0m\u001b[1;32m    765\u001b[0m \u001b[0;34m\u001b[0m\u001b[0m\n\u001b[1;32m    766\u001b[0m     \u001b[0;32mdef\u001b[0m \u001b[0mclose\u001b[0m\u001b[0;34m(\u001b[0m\u001b[0mself\u001b[0m\u001b[0;34m)\u001b[0m\u001b[0;34m:\u001b[0m\u001b[0;34m\u001b[0m\u001b[0m\n",
      "\u001b[0;32m~/miniconda3/lib/python3.6/site-packages/pandas/io/parsers.py\u001b[0m in \u001b[0;36m_make_engine\u001b[0;34m(self, engine)\u001b[0m\n\u001b[1;32m    983\u001b[0m     \u001b[0;32mdef\u001b[0m \u001b[0m_make_engine\u001b[0m\u001b[0;34m(\u001b[0m\u001b[0mself\u001b[0m\u001b[0;34m,\u001b[0m \u001b[0mengine\u001b[0m\u001b[0;34m=\u001b[0m\u001b[0;34m'c'\u001b[0m\u001b[0;34m)\u001b[0m\u001b[0;34m:\u001b[0m\u001b[0;34m\u001b[0m\u001b[0m\n\u001b[1;32m    984\u001b[0m         \u001b[0;32mif\u001b[0m \u001b[0mengine\u001b[0m \u001b[0;34m==\u001b[0m \u001b[0;34m'c'\u001b[0m\u001b[0;34m:\u001b[0m\u001b[0;34m\u001b[0m\u001b[0m\n\u001b[0;32m--> 985\u001b[0;31m             \u001b[0mself\u001b[0m\u001b[0;34m.\u001b[0m\u001b[0m_engine\u001b[0m \u001b[0;34m=\u001b[0m \u001b[0mCParserWrapper\u001b[0m\u001b[0;34m(\u001b[0m\u001b[0mself\u001b[0m\u001b[0;34m.\u001b[0m\u001b[0mf\u001b[0m\u001b[0;34m,\u001b[0m \u001b[0;34m**\u001b[0m\u001b[0mself\u001b[0m\u001b[0;34m.\u001b[0m\u001b[0moptions\u001b[0m\u001b[0;34m)\u001b[0m\u001b[0;34m\u001b[0m\u001b[0m\n\u001b[0m\u001b[1;32m    986\u001b[0m         \u001b[0;32melse\u001b[0m\u001b[0;34m:\u001b[0m\u001b[0;34m\u001b[0m\u001b[0m\n\u001b[1;32m    987\u001b[0m             \u001b[0;32mif\u001b[0m \u001b[0mengine\u001b[0m \u001b[0;34m==\u001b[0m \u001b[0;34m'python'\u001b[0m\u001b[0;34m:\u001b[0m\u001b[0;34m\u001b[0m\u001b[0m\n",
      "\u001b[0;32m~/miniconda3/lib/python3.6/site-packages/pandas/io/parsers.py\u001b[0m in \u001b[0;36m__init__\u001b[0;34m(self, src, **kwds)\u001b[0m\n\u001b[1;32m   1603\u001b[0m         \u001b[0mkwds\u001b[0m\u001b[0;34m[\u001b[0m\u001b[0;34m'allow_leading_cols'\u001b[0m\u001b[0;34m]\u001b[0m \u001b[0;34m=\u001b[0m \u001b[0mself\u001b[0m\u001b[0;34m.\u001b[0m\u001b[0mindex_col\u001b[0m \u001b[0;32mis\u001b[0m \u001b[0;32mnot\u001b[0m \u001b[0;32mFalse\u001b[0m\u001b[0;34m\u001b[0m\u001b[0m\n\u001b[1;32m   1604\u001b[0m \u001b[0;34m\u001b[0m\u001b[0m\n\u001b[0;32m-> 1605\u001b[0;31m         \u001b[0mself\u001b[0m\u001b[0;34m.\u001b[0m\u001b[0m_reader\u001b[0m \u001b[0;34m=\u001b[0m \u001b[0mparsers\u001b[0m\u001b[0;34m.\u001b[0m\u001b[0mTextReader\u001b[0m\u001b[0;34m(\u001b[0m\u001b[0msrc\u001b[0m\u001b[0;34m,\u001b[0m \u001b[0;34m**\u001b[0m\u001b[0mkwds\u001b[0m\u001b[0;34m)\u001b[0m\u001b[0;34m\u001b[0m\u001b[0m\n\u001b[0m\u001b[1;32m   1606\u001b[0m \u001b[0;34m\u001b[0m\u001b[0m\n\u001b[1;32m   1607\u001b[0m         \u001b[0;31m# XXX\u001b[0m\u001b[0;34m\u001b[0m\u001b[0;34m\u001b[0m\u001b[0m\n",
      "\u001b[0;32mpandas/_libs/parsers.pyx\u001b[0m in \u001b[0;36mpandas._libs.parsers.TextReader.__cinit__ (pandas/_libs/parsers.c:4209)\u001b[0;34m()\u001b[0m\n",
      "\u001b[0;32mpandas/_libs/parsers.pyx\u001b[0m in \u001b[0;36mpandas._libs.parsers.TextReader._setup_parser_source (pandas/_libs/parsers.c:8873)\u001b[0;34m()\u001b[0m\n",
      "\u001b[0;31mFileNotFoundError\u001b[0m: File b'census_state_quickfacts.csv' does not exist"
     ]
    }
   ],
   "source": [
    "names1 = [\"population\", \"geo\", \"pop_per_sqmile\", \"area\", \"fips\"]\n",
    "state_info = pd.read_csv(\"census_state_quickfacts.csv\", names = names1)\n",
    "#state_info data downloaded from https://data.world/aaronhoffman/census-gov-state-quickfacts\n",
    "#selected \"Population; Census; April 1; 2010\", \"Geography\", \"Population per square mile; 2010\", \n",
    "#\"Land area in square miles; 2010\", \"FIPS Code\". Data cleaned and transposed before uploaded into Jupyter Notebok."
   ]
  },
  {
   "cell_type": "code",
   "execution_count": null,
   "metadata": {},
   "outputs": [],
   "source": [
    "ufo_all = ufo_vals.join(state_info.set_index('fips'), on='fips')\n",
    "#join columns from state_info with ufo_vals on fips column."
   ]
  },
  {
   "cell_type": "code",
   "execution_count": null,
   "metadata": {},
   "outputs": [],
   "source": [
    "ufo_all.head()"
   ]
  },
  {
   "cell_type": "markdown",
   "metadata": {},
   "source": [
    "## Normalization"
   ]
  },
  {
   "cell_type": "code",
   "execution_count": null,
   "metadata": {},
   "outputs": [],
   "source": [
    "ufo_all['total_sightings_capita'] = ufo_all['total_sightings']/ufo_all['population']\n",
    "ufo_all['total_time_capita'] = ufo_all['total_time']/ufo_all['population']\n",
    "ufo_all['total_sightings_sqmile'] = ufo_all['total_sightings']/ufo_all['area']\n",
    "ufo_all['total_time_sqmile'] = ufo_all['total_time']/ufo_all['area']"
   ]
  },
  {
   "cell_type": "code",
   "execution_count": null,
   "metadata": {},
   "outputs": [],
   "source": [
    "ufo_all.head()"
   ]
  },
  {
   "cell_type": "code",
   "execution_count": null,
   "metadata": {},
   "outputs": [],
   "source": [
    "## First we define a Figure\n",
    "dt_x_fast = LinearScale() #scale of x-axis\n",
    "lin_y = LinearScale() #scale of y-axis\n",
    "\n",
    "x_ax = Axis(label='Year', scale=dt_x_fast) #x-axis\n",
    "x_ay = Axis(scale=lin_y, orientation='vertical') #y-axis\n",
    "lc = Lines(x=total_s_yr.index.values, y=total_s_yr.values, scales={'x':dt_x_fast,'y':lin_y}, colors = ['orange'])\n",
    "#lc is the line of total sightings as a function of year."
   ]
  },
  {
   "cell_type": "code",
   "execution_count": null,
   "metadata": {},
   "outputs": [],
   "source": [
    "map_styles = {'scales': {'projection': bqplot.AlbersUSA(scale_factor=1500),\n",
    "                         'color': bqplot.ColorScale(scheme='RdBu')},\n",
    "              'color': total_s.to_dict()}\n",
    "map_tt = bqplot.Tooltip(fields = ['name','color'], labels = ['State','Total sightings'])\n",
    "states_map = bqplot.Map(map_data=bqplot.topo_load('map_data/USStatesMap.json'),\n",
    "                        interactions = {'click':'select','hover':'tooltip'},\n",
    "                        **map_styles, tooltip = map_tt)\n",
    "map_fig = bqplot.Figure(marks=[states_map], fig_margin={'top':60,'bottom':5,'left':-5,'right':-10},\n",
    "                        layout=ipywidgets.Layout(height='520px', width='520px'),\n",
    "                    title='UFO Sightings in the United States')"
   ]
  },
  {
   "cell_type": "code",
   "execution_count": null,
   "metadata": {},
   "outputs": [],
   "source": [
    "numerical_cols = ['Total sightings','Total time']\n",
    "field_select = Dropdown(options=['Total sightings','Total time'], value='Total sightings', description='Field')"
   ]
  },
  {
   "cell_type": "code",
   "execution_count": null,
   "metadata": {},
   "outputs": [],
   "source": [
    "index = int() # index being an integer, the fips we sued to identify the state selected.\n",
    "def state_select(change):\n",
    "    ind = intsel_fast.selected\n",
    "    if states_map.selected:\n",
    "        for i in np.array(list(abbr_to_fips.values())): # get the fips value from abbr_to_fips\n",
    "            if i is not None:\n",
    "                if states_map.selected[-1] == int(i): # fips value string to integer\n",
    "                    global index\n",
    "                    index = int(i)             \n",
    "                    if field_select.value == 'Total sightings':\n",
    "                        lc.x = total_sightings[index].index.values\n",
    "                        lc.y = total_sightings[index].values\n",
    "                        if ind is not None:\n",
    "                            if any(ind):\n",
    "                                tot = total_sightings[index].loc[ind[0]:ind[-1]].sum()\n",
    "                                db_fast.value = 'The selected period is '+str(int(ind[0]))+' to '+str(int(ind[-1]))+'. Total sightings: '+str(tot)\n",
    "                    \n",
    "                    if field_select.value == 'Total time':\n",
    "                        lc.x = total_time[index].index.values\n",
    "                        lc.y = total_time[index].values \n",
    "                        if ind is not None:\n",
    "                            if any(ind):\n",
    "                                tot = total_time[index].loc[ind[0]:ind[-1]].sum()\n",
    "                                db_fast.value = 'The selected period is '+str(int(ind[0]))+' to '+str(int(ind[-1]))+'. Total duration seconds: '+str(tot)\n",
    "    else:\n",
    "        index = int()\n",
    "        if field_select.value == 'Total sightings':\n",
    "            lc.x = total_s_yr.index.values\n",
    "            lc.y = total_s_yr.values\n",
    "        if field_select.value == 'Total time':\n",
    "            lc.x = total_t_yr.index.values\n",
    "            lc.y = total_t_yr.values\n",
    "        if ind is not None:\n",
    "            if any(ind):\n",
    "                if field_select.value == 'Total sightings':\n",
    "                    tot = total_s_yr.loc[ind[0]:ind[-1]].sum() \n",
    "                    db_fast.value = 'The selected period is '+str(int(ind[0]))+' to '+str(int(ind[-1]))+'. Total sightings: '+str(tot)\n",
    "                if field_select.value == 'Total time':\n",
    "                    tot = total_t_yr.loc[ind[0]:ind[-1]].sum()\n",
    "                    db_fast.value = 'The selected period is '+str(int(ind[0]))+' to '+str(int(ind[-1]))+'. Total duration seconds: '+str(tot)\n",
    "        \n",
    "states_map.observe(state_select, 'selected')"
   ]
  },
  {
   "cell_type": "code",
   "execution_count": null,
   "metadata": {},
   "outputs": [],
   "source": [
    "## Next we define the type of selector we would like\n",
    "intsel_fast = FastIntervalSelector(scale=dt_x_fast, marks=[lc])\n",
    "\n",
    "## Now, we define a function that will be called when the FastIntervalSelector is interacted with\n",
    "def fast_interval_change_callback(change):\n",
    "    ind = change.new\n",
    "    if any(ind):\n",
    "        if field_select.value == 'Total sightings':\n",
    "            if states_map.selected:\n",
    "                tot = total_sightings[index].loc[ind[0]:ind[-1]].sum()               \n",
    "            else:\n",
    "                tot = total_s_yr.loc[ind[0]:ind[-1]].sum()\n",
    "            db_fast.value = 'The selected period is '+str(int(ind[0]))+' to '+str(int(ind[-1]))+'. Total sightings: '+str(tot)\n",
    "        if field_select.value == 'Total time':\n",
    "            if states_map.selected:\n",
    "                tot = total_time[index].loc[ind[0]:ind[-1]].sum()\n",
    "            else:\n",
    "                tot = total_t_yr.loc[ind[0]:ind[-1]].sum()\n",
    "            db_fast.value = 'The selected period is '+str(int(ind[0]))+' to '+str(int(ind[-1]))+'. Total duration seconds: '+str(tot)\n",
    "\n",
    "## Now we connect the selectors to that function\n",
    "intsel_fast.observe(fast_interval_change_callback, names=['selected'])"
   ]
  },
  {
   "cell_type": "code",
   "execution_count": null,
   "metadata": {},
   "outputs": [],
   "source": [
    "## We use the HTML widget to see the value of what we are selecting and modify it when an interaction is performed\n",
    "## on the selector\n",
    "db_fast = HTML()\n",
    "db_fast.value = 'The selected period is ' + str(intsel_fast.selected)\n",
    "\n",
    "fig_fast_intsel = Figure(marks=[lc], axes=[x_ax, x_ay], fig_margin={'top':59,'bottom':40,'left':50,'right':0},\n",
    "                         layout=ipywidgets.Layout(height='450px', width='450px'),\n",
    "                         interaction=intsel_fast) #This is where we assign the interaction to this particular Figure"
   ]
  },
  {
   "cell_type": "code",
   "execution_count": null,
   "metadata": {},
   "outputs": [],
   "source": [
    "# function for dropdown box field change\n",
    "\n",
    "def field_changed(change):\n",
    "    field = change['new']\n",
    "    ind = intsel_fast.selected\n",
    "    if field == 'Total sightings':\n",
    "        states_map.color = total_s.to_dict()\n",
    "        map_tt.labels = label_s\n",
    "        if states_map.selected:\n",
    "            lc.x = total_sightings[index].index.values\n",
    "            lc.y = total_sightings[index].values\n",
    "            if ind is not None:\n",
    "                if any(ind):\n",
    "                    tot = total_sightings[index].loc[ind[0]:ind[-1]].sum()\n",
    "                    db_fast.value = 'The selected time period is %s to %s. Total sightings: %s'%(int(ind[0]),int(ind[-1]),str(tot))\n",
    "        else:\n",
    "            lc.x = total_s_yr.index.values\n",
    "            lc.y = total_s_yr.values\n",
    "            if ind is not None:\n",
    "                if any(ind):\n",
    "                    tot = total_s_yr.loc[ind[0]:ind[-1]].sum()\n",
    "                    db_fast.value = 'The selected time period is %s to %s. Total sightings: %s'%(int(ind[0]),int(ind[-1]),str(tot))\n",
    "            \n",
    "    if field == 'Total time':\n",
    "        states_map.color = total_t.to_dict()\n",
    "        map_tt.labels = label_t\n",
    "        if states_map.selected:\n",
    "            lc.x = total_time[index].index.values\n",
    "            lc.y = total_time[index].values\n",
    "            if ind is not None:\n",
    "                if any(ind):\n",
    "                    tot = total_time[index].loc[ind[0]:ind[-1]].sum()\n",
    "                    db_fast.value = 'The selected time period is %s to %s. Total duration seconds: %s'%(int(ind[0]),int(ind[-1]),str(tot))\n",
    "        else:\n",
    "            lc.x = total_t_yr.index.values\n",
    "            lc.y = total_t_yr.values\n",
    "            if ind is not None:\n",
    "                if any(ind):\n",
    "                    tot = total_t_yr.loc[ind[0]:ind[-1]].sum()\n",
    "                    db_fast.value = 'The selected time period is %s to %s. Total duration seconds: %s'%(int(ind[0]),int(ind[-1]),str(tot))\n",
    "\n",
    "field_select.observe(field_changed, 'value')"
   ]
  },
  {
   "cell_type": "code",
   "execution_count": null,
   "metadata": {},
   "outputs": [],
   "source": [
    "def a():\n",
    "    b = HBox([VBox([field_select, map_fig]), VBox([db_fast, fig_fast_intsel])])\n",
    "    return b"
   ]
  },
  {
   "cell_type": "code",
   "execution_count": null,
   "metadata": {},
   "outputs": [],
   "source": [
    "a()"
   ]
  },
  {
   "cell_type": "code",
   "execution_count": null,
   "metadata": {},
   "outputs": [],
   "source": []
  },
  {
   "cell_type": "code",
   "execution_count": null,
   "metadata": {},
   "outputs": [],
   "source": []
  }
 ],
 "metadata": {
  "kernelspec": {
   "display_name": "Python 3",
   "language": "python",
   "name": "python3"
  },
  "language_info": {
   "codemirror_mode": {
    "name": "ipython",
    "version": 3
   },
   "file_extension": ".py",
   "mimetype": "text/x-python",
   "name": "python",
   "nbconvert_exporter": "python",
   "pygments_lexer": "ipython3",
   "version": "3.6.3"
  }
 },
 "nbformat": 4,
 "nbformat_minor": 2
}
